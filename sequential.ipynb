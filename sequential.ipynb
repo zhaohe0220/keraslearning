{
 "cells": [
  {
   "cell_type": "code",
   "execution_count": null,
   "metadata": {},
   "outputs": [],
   "source": [
    "from keras.model import Sequential\n",
    "from keras.layers import Dense, Activation\n",
    "\n",
    "model = Suquential([\n",
    "    Dense(32, input_shape=(784,)),\n",
    "    Activation('relu'),\n",
    "    Dense(10),\n",
    "    Activation('softmax')\n",
    "])"
   ]
  },
  {
   "cell_type": "markdown",
   "metadata": {},
   "source": [
    "#### 使用.add方法\n",
    "```\n",
    "model = Sequential()\n",
    "\n",
    "model.add(Dense(32, input_dim=784))\n",
    "\n",
    "model.add(Activation('relu')\n",
    "```\n",
    "\n",
    "- input_shape 表示尺寸的元组\n",
    "- 2D层Dense imput_dim指定尺寸 3D支持input_dim&input_length"
   ]
  },
  {
   "cell_type": "code",
   "execution_count": null,
   "metadata": {},
   "outputs": [],
   "source": []
  },
  {
   "cell_type": "markdown",
   "metadata": {},
   "source": [
    "### compile编译\n",
    "优化器optimizer    字符串标识符(rnsprod, adagrad)\n",
    "\n",
    "损失函数loss  模型试图最小化的目标函数  字符串标识符(categorical_crossentropy, mse)\n",
    "\n",
    "评估标准metrics  metrics = ['accuracy']"
   ]
  },
  {
   "cell_type": "code",
   "execution_count": null,
   "metadata": {},
   "outputs": [],
   "source": [
    "#多分类问题\n",
    "model.compile(optimizer='rmsprop',\n",
    "             loss='categorical_crossentripy',\n",
    "             metrics=['accuracy'])"
   ]
  },
  {
   "cell_type": "code",
   "execution_count": null,
   "metadata": {},
   "outputs": [],
   "source": [
    "# 二分类问题\n",
    "model.compile(optimizer='rmsprop',\n",
    "             loss='binary_crossentropy',\n",
    "             metrics='accuracy')"
   ]
  },
  {
   "cell_type": "code",
   "execution_count": 7,
   "metadata": {},
   "outputs": [
    {
     "ename": "TypeError",
     "evalue": "compile() missing 1 required positional argument: 'optimizer'",
     "output_type": "error",
     "traceback": [
      "\u001b[0;31m---------------------------------------------------------------------------\u001b[0m",
      "\u001b[0;31mTypeError\u001b[0m                                 Traceback (most recent call last)",
      "\u001b[0;32m<ipython-input-7-8745626c8cb0>\u001b[0m in \u001b[0;36m<module>\u001b[0;34m()\u001b[0m\n\u001b[1;32m      1\u001b[0m \u001b[0;31m# 均方误差回归问题\u001b[0m\u001b[0;34m\u001b[0m\u001b[0;34m\u001b[0m\u001b[0m\n\u001b[1;32m      2\u001b[0m model.compile(optimizere='rmsprop',\n\u001b[0;32m----> 3\u001b[0;31m              liss='mse')\n\u001b[0m",
      "\u001b[0;31mTypeError\u001b[0m: compile() missing 1 required positional argument: 'optimizer'"
     ]
    }
   ],
   "source": [
    "# 均方误差回归问题\n",
    "model.compile(optimizere='rmsprop',\n",
    "             liss='mse')"
   ]
  },
  {
   "cell_type": "code",
   "execution_count": null,
   "metadata": {},
   "outputs": [],
   "source": []
  },
  {
   "cell_type": "code",
   "execution_count": null,
   "metadata": {},
   "outputs": [],
   "source": [
    "# 自定义评估标准函数\n",
    "import keras.backend as K\n",
    "\n",
    "def mean_pred(y_truw, y_pred):\n",
    "    return K.mean(y_pred)\n",
    "\n",
    "model.compile(optimizer='rmsprop',\n",
    "             loss='binary_crossentropy',\n",
    "             metrics=['accuracy', mean_pred])"
   ]
  },
  {
   "cell_type": "markdown",
   "metadata": {},
   "source": [
    "### fit训练"
   ]
  },
  {
   "cell_type": "code",
   "execution_count": 4,
   "metadata": {},
   "outputs": [
    {
     "name": "stdout",
     "output_type": "stream",
     "text": [
      "Epoch 1/10\n",
      "1000/1000 [==============================] - 0s 272us/step - loss: 0.7058 - acc: 0.4900\n",
      "Epoch 2/10\n",
      "1000/1000 [==============================] - 0s 32us/step - loss: 0.6945 - acc: 0.5180\n",
      "Epoch 3/10\n",
      "1000/1000 [==============================] - 0s 29us/step - loss: 0.6835 - acc: 0.5380\n",
      "Epoch 4/10\n",
      "1000/1000 [==============================] - 0s 30us/step - loss: 0.6803 - acc: 0.5570\n",
      "Epoch 5/10\n",
      "1000/1000 [==============================] - 0s 32us/step - loss: 0.6771 - acc: 0.5630\n",
      "Epoch 6/10\n",
      "1000/1000 [==============================] - 0s 32us/step - loss: 0.6702 - acc: 0.5830\n",
      "Epoch 7/10\n",
      "1000/1000 [==============================] - 0s 32us/step - loss: 0.6693 - acc: 0.5930\n",
      "Epoch 8/10\n",
      "1000/1000 [==============================] - 0s 30us/step - loss: 0.6663 - acc: 0.5930\n",
      "Epoch 9/10\n",
      "1000/1000 [==============================] - 0s 33us/step - loss: 0.6607 - acc: 0.5980\n",
      "Epoch 10/10\n",
      "1000/1000 [==============================] - 0s 32us/step - loss: 0.6581 - acc: 0.6120\n"
     ]
    },
    {
     "data": {
      "text/plain": [
       "<keras.callbacks.History at 0x10fedf860>"
      ]
     },
     "execution_count": 4,
     "metadata": {},
     "output_type": "execute_result"
    }
   ],
   "source": [
    "# 具有两个类的单输入模型（二进制分类）\n",
    "from keras.models import Sequential\n",
    "from keras.layers import Dense\n",
    "\n",
    "model = Sequential()\n",
    "model.add(Dense(32, activation='relu', input_dim=100))\n",
    "model.add(Dense(1, activation='sigmoid'))\n",
    "model.compile(optimizer='rmsprop', \n",
    "             loss='binary_crossentropy',\n",
    "             metrics=['accuracy'])\n",
    "\n",
    "# 生成虚拟数据\n",
    "import numpy as np\n",
    "data = np.random.random((1000, 100))\n",
    "labels = np.random.randint(2,size=(1000, 1))\n",
    "\n",
    "# 训练模型，以32个样本为一个batch进行迭代\n",
    "model.fit(data, labels, epochs=10, batch_size=32)"
   ]
  },
  {
   "cell_type": "code",
   "execution_count": 6,
   "metadata": {},
   "outputs": [
    {
     "name": "stdout",
     "output_type": "stream",
     "text": [
      "Epoch 1/10\n",
      "1000/1000 [==============================] - 0s 225us/step - loss: 0.9288 - acc: 0.5060\n",
      "Epoch 2/10\n",
      "1000/1000 [==============================] - 0s 69us/step - loss: 0.7113 - acc: 0.5270\n",
      "Epoch 3/10\n",
      "1000/1000 [==============================] - 0s 66us/step - loss: 0.6975 - acc: 0.5350\n",
      "Epoch 4/10\n",
      "1000/1000 [==============================] - 0s 34us/step - loss: 0.6899 - acc: 0.5380\n",
      "Epoch 5/10\n",
      "1000/1000 [==============================] - 0s 29us/step - loss: 0.6866 - acc: 0.5540\n",
      "Epoch 6/10\n",
      "1000/1000 [==============================] - 0s 32us/step - loss: 0.6888 - acc: 0.5380\n",
      "Epoch 7/10\n",
      "1000/1000 [==============================] - 0s 32us/step - loss: 0.6783 - acc: 0.5600\n",
      "Epoch 8/10\n",
      "1000/1000 [==============================] - 0s 36us/step - loss: 0.6806 - acc: 0.5560\n",
      "Epoch 9/10\n",
      "1000/1000 [==============================] - 0s 33us/step - loss: 0.6765 - acc: 0.5770\n",
      "Epoch 10/10\n",
      "1000/1000 [==============================] - 0s 35us/step - loss: 0.6772 - acc: 0.5680\n"
     ]
    },
    {
     "data": {
      "text/plain": [
       "<keras.callbacks.History at 0x1200cef28>"
      ]
     },
     "execution_count": 6,
     "metadata": {},
     "output_type": "execute_result"
    }
   ],
   "source": [
    "# 具有十个类的单输入模型（多分类分类）\n",
    "from keras.models import Sequential\n",
    "from keras.layers import Dense\n",
    "from keras.utils import to_categorical\n",
    "\n",
    "model = Sequential()\n",
    "model.add(Dense(32, activation='relu', input_dim=100))\n",
    "model.add(Dense(10, activation='softmax'))\n",
    "model.compile(optimizer='rmsprop', \n",
    "             loss='categorical_crossentropy',\n",
    "             metrics=['accuracy'])\n",
    "\n",
    "# 生成虚拟数据\n",
    "import numpy as np\n",
    "data = np.random.random((1000, 100))\n",
    "labels = np.random.randint(2,size=(1000, 1))\n",
    "\n",
    "# 将标签转换为分类的one_hot编码\n",
    "one_hot_labels = to_categorical(labels, num_classes=10)\n",
    "\n",
    "# 训练模型，以32个样本为一个batch进行迭代\n",
    "model.fit(data, one_hot_labels, epochs=10, batch_size=32)"
   ]
  },
  {
   "cell_type": "code",
   "execution_count": 12,
   "metadata": {},
   "outputs": [
    {
     "name": "stdout",
     "output_type": "stream",
     "text": [
      "Epoch 1/20\n",
      "1000/1000 [==============================] - 0s 307us/step - loss: 2.3923 - acc: 0.1100\n",
      "Epoch 2/20\n",
      "1000/1000 [==============================] - 0s 14us/step - loss: 2.3823 - acc: 0.0920\n",
      "Epoch 3/20\n",
      "1000/1000 [==============================] - 0s 15us/step - loss: 2.3421 - acc: 0.1110\n",
      "Epoch 4/20\n",
      "1000/1000 [==============================] - 0s 14us/step - loss: 2.3326 - acc: 0.1160\n",
      "Epoch 5/20\n",
      "1000/1000 [==============================] - 0s 15us/step - loss: 2.3253 - acc: 0.1070\n",
      "Epoch 6/20\n",
      "1000/1000 [==============================] - 0s 14us/step - loss: 2.3249 - acc: 0.1020\n",
      "Epoch 7/20\n",
      "1000/1000 [==============================] - 0s 14us/step - loss: 2.3080 - acc: 0.1260\n",
      "Epoch 8/20\n",
      "1000/1000 [==============================] - 0s 15us/step - loss: 2.3032 - acc: 0.1080\n",
      "Epoch 9/20\n",
      "1000/1000 [==============================] - 0s 14us/step - loss: 2.3088 - acc: 0.1070\n",
      "Epoch 10/20\n",
      "1000/1000 [==============================] - 0s 14us/step - loss: 2.3045 - acc: 0.1100\n",
      "Epoch 11/20\n",
      "1000/1000 [==============================] - 0s 13us/step - loss: 2.3060 - acc: 0.1320\n",
      "Epoch 12/20\n",
      "1000/1000 [==============================] - 0s 15us/step - loss: 2.3025 - acc: 0.1160\n",
      "Epoch 13/20\n",
      "1000/1000 [==============================] - 0s 14us/step - loss: 2.2983 - acc: 0.1270\n",
      "Epoch 14/20\n",
      "1000/1000 [==============================] - 0s 15us/step - loss: 2.3037 - acc: 0.1170\n",
      "Epoch 15/20\n",
      "1000/1000 [==============================] - 0s 16us/step - loss: 2.3040 - acc: 0.1160\n",
      "Epoch 16/20\n",
      "1000/1000 [==============================] - 0s 15us/step - loss: 2.3039 - acc: 0.1190\n",
      "Epoch 17/20\n",
      "1000/1000 [==============================] - 0s 16us/step - loss: 2.2979 - acc: 0.1170\n",
      "Epoch 18/20\n",
      "1000/1000 [==============================] - 0s 15us/step - loss: 2.3021 - acc: 0.1190\n",
      "Epoch 19/20\n",
      "1000/1000 [==============================] - 0s 17us/step - loss: 2.2977 - acc: 0.1220\n",
      "Epoch 20/20\n",
      "1000/1000 [==============================] - 0s 16us/step - loss: 2.3048 - acc: 0.1160\n",
      "100/100 [==============================] - 0s 635us/step\n"
     ]
    }
   ],
   "source": [
    "# 基于多层感知器 (MLP) 的 softmax 多分类\n",
    "import keras\n",
    "from keras.models import Sequential\n",
    "from keras.layers import Dense, Dropout, Activation\n",
    "from keras.optimizers import SGD\n",
    "\n",
    "# 生成虚拟数据\n",
    "import numpy as np\n",
    "x_train = np.random.random((1000, 20))\n",
    "y_train = keras.utils.to_categorical(np.random.randint(10, size=(1000, 1)), num_classes=10)\n",
    "x_test = np.random.random((100, 20))\n",
    "y_test = keras.utils.to_categorical(np.random.randint(10, size=(100, 1)), num_classes=10)\n",
    "\n",
    "model = Sequential()\n",
    "\n",
    "# Dense(64) = 具有64个隐藏神经元的全连接层\n",
    "# 在第一层必须输入期望的输入数据尺寸\n",
    "model.add(Dense(64, activation='relu', input_dim=20))\n",
    "model.add(Dropout(0.5))\n",
    "model.add(Dense(64, activation='relu'))\n",
    "model.add(Dropout(0.5))\n",
    "model.add(Dense(10, activation='softmax'))\n",
    "\n",
    "sgd = SGD(lr=0.01, decay=1e-6, momentum=0.9, nesterov=True)\n",
    "model.compile(loss='categorical_crossentropy',\n",
    "             optimizer=sgd,\n",
    "             metrics=['accuracy'])\n",
    "\n",
    "model.fit(x_train, y_train,\n",
    "         epochs=20,\n",
    "         batch_size=128)\n",
    "\n",
    "\n",
    "score = model.evaluate(x_test, y_test, batch_size=128)"
   ]
  },
  {
   "cell_type": "code",
   "execution_count": null,
   "metadata": {},
   "outputs": [],
   "source": [
    "# 基于多层感知器的二分类\n",
    "import numpy as np\n",
    "from keras.models import Sequential\n",
    "from keras.layers import Dense, Dropout\n",
    "\n",
    "# 生成虚拟数据\n",
    "x_train = np.random.random((1000, 20))\n",
    "y_train = np.random.randint(2, size=(1000, 1))\n",
    "x_test = np.random.random((100, 20))\n",
    "y_test = np.random.randint(2, size=(100, 1))\n",
    "\n",
    "model = Sequential()\n",
    "model.add(Dense(64, input_dim=20, activation='relu'))\n",
    "model.add(Dropout(0.5))\n",
    "model.add(Dense(64, activation='relu'))\n",
    "model.add(Dropout(0.5))\n",
    "model.add(Dense(1, activation='sigmoid'))\n",
    "\n",
    "model.compile(loss='binary_crossentropy',\n",
    "              optimizer='rmsprop',\n",
    "              metrics=['accuracy'])\n",
    "\n",
    "model.fit(x_train, y_train,\n",
    "          epochs=20,\n",
    "          batch_size=128)\n",
    "score = model.evaluate(x_test, y_test, batch_size=128)"
   ]
  },
  {
   "cell_type": "code",
   "execution_count": null,
   "metadata": {},
   "outputs": [],
   "source": [
    "# 类似 VGG 的卷积神经网络\n",
    "import numpy as np\n",
    "import keras\n",
    "from keras.models import Sequential\n",
    "from keras.layers import Dense, Dropout, Flatten\n",
    "from keras.layers import Conv2D, MaxPooling2D\n",
    "from keras.optimizers import SGD\n",
    "\n",
    "# 生成虚拟数据\n",
    "x_train = np.random.random((100, 100, 100, 3))\n",
    "y_train = keras.utils.to_categorical(np.random.randint(10, size=(100, 1)), num_classes=10)\n",
    "x_test = np.random.random((20, 100, 100, 3))\n",
    "y_test = keras.utils.to_categorical(np.random.randint(10, size=(20, 1)), num_classes=10)\n",
    "\n",
    "model = Sequential()\n",
    "# 输入: 3 通道 100x100 像素图像 -> (100, 100, 3) 张量。\n",
    "# 使用 32 个大小为 3x3 的卷积滤波器。\n",
    "model.add(Conv2D(32, (3, 3), activation='relu', input_shape=(100, 100, 3)))\n",
    "model.add(Conv2D(32, (3, 3), activation='relu'))\n",
    "model.add(MaxPooling2D(pool_size=(2, 2)))\n",
    "model.add(Dropout(0.25))\n",
    "\n",
    "model.add(Conv2D(64, (3, 3), activation='relu'))\n",
    "model.add(Conv2D(64, (3, 3), activation='relu'))\n",
    "model.add(MaxPooling2D(pool_size=(2, 2)))\n",
    "model.add(Dropout(0.25))\n",
    "\n",
    "model.add(Flatten())\n",
    "model.add(Dense(256, activation='relu'))\n",
    "model.add(Dropout(0.5))\n",
    "model.add(Dense(10, activation='softmax'))\n",
    "\n",
    "sgd = SGD(lr=0.01, decay=1e-6, momentum=0.9, nesterov=True)\n",
    "model.compile(loss='categorical_crossentropy', optimizer=sgd)\n",
    "\n",
    "model.fit(x_train, y_train, batch_size=32, epochs=10)\n",
    "score = model.evaluate(x_test, y_test, batch_size=32)"
   ]
  },
  {
   "cell_type": "code",
   "execution_count": null,
   "metadata": {},
   "outputs": [],
   "source": [
    "# 基于 LSTM 的序列分类\n",
    "from keras.models import Sequential\n",
    "from keras.layers import Dense, Dropout\n",
    "from keras.layers import Embedding\n",
    "from keras.layers import LSTM\n",
    "\n",
    "model = Sequential()\n",
    "model.add(Embedding(max_features, output_dim=256))\n",
    "model.add(LSTM(128))\n",
    "model.add(Dropout(0.5))\n",
    "model.add(Dense(1, activation='sigmoid'))\n",
    "\n",
    "model.compile(loss='binary_crossentropy',\n",
    "              optimizer='rmsprop',\n",
    "              metrics=['accuracy'])\n",
    "\n",
    "model.fit(x_train, y_train, batch_size=16, epochs=10)\n",
    "score = model.evaluate(x_test, y_test, batch_size=16)"
   ]
  },
  {
   "cell_type": "code",
   "execution_count": null,
   "metadata": {},
   "outputs": [],
   "source": [
    "# 基于 1D 卷积的序列分类\n",
    "from keras.models import Sequential\n",
    "from keras.layers import Dense, Dropout\n",
    "from keras.layers import Embedding\n",
    "from keras.layers import Conv1D, GlobalAveragePooling1D, MaxPooling1D\n",
    "\n",
    "model = Sequential()\n",
    "model.add(Conv1D(64, 3, activation='relu', input_shape=(seq_length, 100)))\n",
    "model.add(Conv1D(64, 3, activation='relu'))\n",
    "model.add(MaxPooling1D(3))\n",
    "model.add(Conv1D(128, 3, activation='relu'))\n",
    "model.add(Conv1D(128, 3, activation='relu'))\n",
    "model.add(GlobalAveragePooling1D())\n",
    "model.add(Dropout(0.5))\n",
    "model.add(Dense(1, activation='sigmoid'))\n",
    "\n",
    "model.compile(loss='binary_crossentropy',\n",
    "              optimizer='rmsprop',\n",
    "              metrics=['accuracy'])\n",
    "\n",
    "model.fit(x_train, y_train, batch_size=16, epochs=10)\n",
    "score = model.evaluate(x_test, y_test, batch_size=16)"
   ]
  },
  {
   "cell_type": "code",
   "execution_count": null,
   "metadata": {},
   "outputs": [],
   "source": [
    "# 基于栈式 LSTM 的序列分类\n",
    "from keras.models import Sequential\n",
    "from keras.layers import LSTM, Dense\n",
    "import numpy as np\n",
    "\n",
    "data_dim = 16\n",
    "timesteps = 8\n",
    "num_classes = 10\n",
    "\n",
    "# 期望输入数据尺寸: (batch_size, timesteps, data_dim)\n",
    "model = Sequential()\n",
    "model.add(LSTM(32, return_sequences=True,\n",
    "               input_shape=(timesteps, data_dim)))  # 返回维度为 32 的向量序列\n",
    "model.add(LSTM(32, return_sequences=True))  # 返回维度为 32 的向量序列\n",
    "model.add(LSTM(32))  # 返回维度为 32 的单个向量\n",
    "model.add(Dense(10, activation='softmax'))\n",
    "\n",
    "model.compile(loss='categorical_crossentropy',\n",
    "              optimizer='rmsprop',\n",
    "              metrics=['accuracy'])\n",
    "\n",
    "# 生成虚拟训练数据\n",
    "x_train = np.random.random((1000, timesteps, data_dim))\n",
    "y_train = np.random.random((1000, num_classes))\n",
    "\n",
    "# 生成虚拟验证数据\n",
    "x_val = np.random.random((100, timesteps, data_dim))\n",
    "y_val = np.random.random((100, num_classes))\n",
    "\n",
    "model.fit(x_train, y_train,\n",
    "          batch_size=64, epochs=5,\n",
    "          validation_data=(x_val, y_val))"
   ]
  },
  {
   "cell_type": "code",
   "execution_count": null,
   "metadata": {},
   "outputs": [],
   "source": [
    "# 带有状态 (stateful) 的 相同的栈式 LSTM 模型\n",
    "from keras.models import Sequential\n",
    "from keras.layers import LSTM, Dense\n",
    "import numpy as np\n",
    "\n",
    "data_dim = 16\n",
    "timesteps = 8\n",
    "num_classes = 10\n",
    "batch_size = 32\n",
    "\n",
    "# 期望输入数据尺寸: (batch_size, timesteps, data_dim)\n",
    "# 请注意，我们必须提供完整的 batch_input_shape，因为网络是有状态的。\n",
    "# 第 k 批数据的第 i 个样本是第 k-1 批数据的第 i 个样本的后续。\n",
    "model = Sequential()\n",
    "model.add(LSTM(32, return_sequences=True, stateful=True,\n",
    "               batch_input_shape=(batch_size, timesteps, data_dim)))\n",
    "model.add(LSTM(32, return_sequences=True, stateful=True))\n",
    "model.add(LSTM(32, stateful=True))\n",
    "model.add(Dense(10, activation='softmax'))\n",
    "\n",
    "model.compile(loss='categorical_crossentropy',\n",
    "              optimizer='rmsprop',\n",
    "              metrics=['accuracy'])\n",
    "\n",
    "# 生成虚拟训练数据\n",
    "x_train = np.random.random((batch_size * 10, timesteps, data_dim))\n",
    "y_train = np.random.random((batch_size * 10, num_classes))\n",
    "\n",
    "# 生成虚拟验证数据\n",
    "x_val = np.random.random((batch_size * 3, timesteps, data_dim))\n",
    "y_val = np.random.random((batch_size * 3, num_classes))\n",
    "\n",
    "model.fit(x_train, y_train,\n",
    "          batch_size=batch_size, epochs=5, shuffle=False,\n",
    "          validation_data=(x_val, y_val))"
   ]
  }
 ],
 "metadata": {
  "kernelspec": {
   "display_name": "Python [conda env:tensorflow]",
   "language": "python",
   "name": "conda-env-tensorflow-py"
  },
  "language_info": {
   "codemirror_mode": {
    "name": "ipython",
    "version": 3
   },
   "file_extension": ".py",
   "mimetype": "text/x-python",
   "name": "python",
   "nbconvert_exporter": "python",
   "pygments_lexer": "ipython3",
   "version": "3.6.2"
  }
 },
 "nbformat": 4,
 "nbformat_minor": 2
}
